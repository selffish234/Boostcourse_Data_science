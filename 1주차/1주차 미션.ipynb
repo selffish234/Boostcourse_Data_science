{
 "cells": [
  {
   "cell_type": "markdown",
   "id": "eb42ec98",
   "metadata": {},
   "source": [
    "# Q1"
   ]
  },
  {
   "cell_type": "code",
   "execution_count": 40,
   "id": "568a00dd",
   "metadata": {
    "ExecuteTime": {
     "end_time": "2023-10-09T10:45:37.799497Z",
     "start_time": "2023-10-09T10:45:37.786792Z"
    }
   },
   "outputs": [
    {
     "data": {
      "text/plain": [
       "28"
      ]
     },
     "execution_count": 40,
     "metadata": {},
     "output_type": "execute_result"
    }
   ],
   "source": [
    "# 응답 설문 문항\n",
    "question = ['Q2', 'Q3', 'Q4', 'Q5', 'Q6_1', 'Q6_2', 'Q6_3', 'Q6_4', 'Q6_5', 'Q6_6',\n",
    "       'Q6_7', 'Q6_8', 'Q6_9', 'Q6_10', 'Q6_11', 'Q6_12', 'Q7_1', 'Q7_2',\n",
    "       'Q7_3', 'Q7_4', 'Q7_5', 'Q7_6', 'Q7_7', 'Q8', 'Q9', 'Q10_1', 'Q10_2',\n",
    "       'Q10_3']\n",
    "len(question)"
   ]
  },
  {
   "cell_type": "code",
   "execution_count": 41,
   "id": "8a1b885c",
   "metadata": {
    "ExecuteTime": {
     "end_time": "2023-10-09T10:45:38.184438Z",
     "start_time": "2023-10-09T10:45:38.176347Z"
    }
   },
   "outputs": [
    {
     "data": {
      "text/plain": [
       "True"
      ]
     },
     "execution_count": 41,
     "metadata": {},
     "output_type": "execute_result"
    }
   ],
   "source": [
    "(\"_\" in question[3]) == False"
   ]
  },
  {
   "cell_type": "code",
   "execution_count": 42,
   "id": "144d2367",
   "metadata": {
    "ExecuteTime": {
     "end_time": "2023-10-09T10:45:38.399759Z",
     "start_time": "2023-10-09T10:45:38.385514Z"
    }
   },
   "outputs": [
    {
     "name": "stdout",
     "output_type": "stream",
     "text": [
      "['Q2', 'Q3', 'Q4', 'Q5', 'Q8', 'Q9']\n"
     ]
    }
   ],
   "source": [
    "temp = []\n",
    "for i in range(len(question)):\n",
    "    if not \"_\" in question[i]:\n",
    "        temp.append(question[i])\n",
    "print(temp)"
   ]
  },
  {
   "cell_type": "code",
   "execution_count": 43,
   "id": "f64fd073",
   "metadata": {
    "ExecuteTime": {
     "end_time": "2023-10-09T10:45:38.615038Z",
     "start_time": "2023-10-09T10:45:38.593170Z"
    }
   },
   "outputs": [
    {
     "name": "stdout",
     "output_type": "stream",
     "text": [
      "['Q2', 'Q3', 'Q4', 'Q5', 'Q8', 'Q9']\n"
     ]
    }
   ],
   "source": [
    "temp = []\n",
    "for i in range(len(question)):\n",
    "    if (\"_\" in question[i]) == False:\n",
    "        temp.append(question[i])\n",
    "print(temp)"
   ]
  },
  {
   "cell_type": "markdown",
   "id": "49a5fa22",
   "metadata": {},
   "source": [
    "# Q2"
   ]
  },
  {
   "cell_type": "code",
   "execution_count": 50,
   "id": "cd8cd751",
   "metadata": {
    "ExecuteTime": {
     "end_time": "2023-10-09T10:47:02.662739Z",
     "start_time": "2023-10-09T10:47:02.078656Z"
    },
    "scrolled": true
   },
   "outputs": [
    {
     "data": {
      "text/html": [
       "<div>\n",
       "<style scoped>\n",
       "    .dataframe tbody tr th:only-of-type {\n",
       "        vertical-align: middle;\n",
       "    }\n",
       "\n",
       "    .dataframe tbody tr th {\n",
       "        vertical-align: top;\n",
       "    }\n",
       "\n",
       "    .dataframe thead th {\n",
       "        text-align: right;\n",
       "    }\n",
       "</style>\n",
       "<table border=\"1\" class=\"dataframe\">\n",
       "  <thead>\n",
       "    <tr style=\"text-align: right;\">\n",
       "      <th></th>\n",
       "      <th>Year</th>\n",
       "      <th>Country</th>\n",
       "      <th>Spending_USD</th>\n",
       "      <th>Life_Expectancy</th>\n",
       "    </tr>\n",
       "  </thead>\n",
       "  <tbody>\n",
       "    <tr>\n",
       "      <th>0</th>\n",
       "      <td>1970</td>\n",
       "      <td>Germany</td>\n",
       "      <td>252.311</td>\n",
       "      <td>70.6</td>\n",
       "    </tr>\n",
       "    <tr>\n",
       "      <th>1</th>\n",
       "      <td>1970</td>\n",
       "      <td>France</td>\n",
       "      <td>192.143</td>\n",
       "      <td>72.2</td>\n",
       "    </tr>\n",
       "    <tr>\n",
       "      <th>2</th>\n",
       "      <td>1970</td>\n",
       "      <td>Great Britain</td>\n",
       "      <td>123.993</td>\n",
       "      <td>71.9</td>\n",
       "    </tr>\n",
       "    <tr>\n",
       "      <th>3</th>\n",
       "      <td>1970</td>\n",
       "      <td>Japan</td>\n",
       "      <td>150.437</td>\n",
       "      <td>72.0</td>\n",
       "    </tr>\n",
       "    <tr>\n",
       "      <th>4</th>\n",
       "      <td>1970</td>\n",
       "      <td>USA</td>\n",
       "      <td>326.961</td>\n",
       "      <td>70.9</td>\n",
       "    </tr>\n",
       "    <tr>\n",
       "      <th>...</th>\n",
       "      <td>...</td>\n",
       "      <td>...</td>\n",
       "      <td>...</td>\n",
       "      <td>...</td>\n",
       "    </tr>\n",
       "    <tr>\n",
       "      <th>269</th>\n",
       "      <td>2020</td>\n",
       "      <td>Germany</td>\n",
       "      <td>6938.983</td>\n",
       "      <td>81.1</td>\n",
       "    </tr>\n",
       "    <tr>\n",
       "      <th>270</th>\n",
       "      <td>2020</td>\n",
       "      <td>France</td>\n",
       "      <td>5468.418</td>\n",
       "      <td>82.3</td>\n",
       "    </tr>\n",
       "    <tr>\n",
       "      <th>271</th>\n",
       "      <td>2020</td>\n",
       "      <td>Great Britain</td>\n",
       "      <td>5018.700</td>\n",
       "      <td>80.4</td>\n",
       "    </tr>\n",
       "    <tr>\n",
       "      <th>272</th>\n",
       "      <td>2020</td>\n",
       "      <td>Japan</td>\n",
       "      <td>4665.641</td>\n",
       "      <td>84.7</td>\n",
       "    </tr>\n",
       "    <tr>\n",
       "      <th>273</th>\n",
       "      <td>2020</td>\n",
       "      <td>USA</td>\n",
       "      <td>11859.179</td>\n",
       "      <td>77.0</td>\n",
       "    </tr>\n",
       "  </tbody>\n",
       "</table>\n",
       "<p>274 rows × 4 columns</p>\n",
       "</div>"
      ],
      "text/plain": [
       "     Year        Country  Spending_USD  Life_Expectancy\n",
       "0    1970        Germany       252.311             70.6\n",
       "1    1970         France       192.143             72.2\n",
       "2    1970  Great Britain       123.993             71.9\n",
       "3    1970          Japan       150.437             72.0\n",
       "4    1970            USA       326.961             70.9\n",
       "..    ...            ...           ...              ...\n",
       "269  2020        Germany      6938.983             81.1\n",
       "270  2020         France      5468.418             82.3\n",
       "271  2020  Great Britain      5018.700             80.4\n",
       "272  2020          Japan      4665.641             84.7\n",
       "273  2020            USA     11859.179             77.0\n",
       "\n",
       "[274 rows x 4 columns]"
      ]
     },
     "execution_count": 50,
     "metadata": {},
     "output_type": "execute_result"
    }
   ],
   "source": [
    "import pandas as pd\n",
    "df = pd.read_csv(\"https://raw.githubusercontent.com/mwaskom/seaborn-data/master/healthexp.csv\")\n",
    "df"
   ]
  },
  {
   "cell_type": "code",
   "execution_count": 47,
   "id": "44d6d1f1",
   "metadata": {
    "ExecuteTime": {
     "end_time": "2023-10-09T10:46:02.138269Z",
     "start_time": "2023-10-09T10:46:02.119415Z"
    }
   },
   "outputs": [],
   "source": [
    "filtered_df = df[(df[\"Year\"] >= 2011) & (df[\"Year\"] <= 2020)]"
   ]
  },
  {
   "cell_type": "code",
   "execution_count": 49,
   "id": "3e6a082f",
   "metadata": {
    "ExecuteTime": {
     "end_time": "2023-10-09T10:46:11.168997Z",
     "start_time": "2023-10-09T10:46:11.120206Z"
    }
   },
   "outputs": [
    {
     "data": {
      "text/html": [
       "<div>\n",
       "<style scoped>\n",
       "    .dataframe tbody tr th:only-of-type {\n",
       "        vertical-align: middle;\n",
       "    }\n",
       "\n",
       "    .dataframe tbody tr th {\n",
       "        vertical-align: top;\n",
       "    }\n",
       "\n",
       "    .dataframe thead th {\n",
       "        text-align: right;\n",
       "    }\n",
       "</style>\n",
       "<table border=\"1\" class=\"dataframe\">\n",
       "  <thead>\n",
       "    <tr style=\"text-align: right;\">\n",
       "      <th>Country</th>\n",
       "      <th>Canada</th>\n",
       "      <th>France</th>\n",
       "      <th>Germany</th>\n",
       "      <th>Great Britain</th>\n",
       "      <th>Japan</th>\n",
       "      <th>USA</th>\n",
       "    </tr>\n",
       "    <tr>\n",
       "      <th>Year</th>\n",
       "      <th></th>\n",
       "      <th></th>\n",
       "      <th></th>\n",
       "      <th></th>\n",
       "      <th></th>\n",
       "      <th></th>\n",
       "    </tr>\n",
       "  </thead>\n",
       "  <tbody>\n",
       "    <tr>\n",
       "      <th>2011</th>\n",
       "      <td>81.4</td>\n",
       "      <td>82.3</td>\n",
       "      <td>80.5</td>\n",
       "      <td>81.0</td>\n",
       "      <td>82.7</td>\n",
       "      <td>78.7</td>\n",
       "    </tr>\n",
       "    <tr>\n",
       "      <th>2012</th>\n",
       "      <td>81.6</td>\n",
       "      <td>82.1</td>\n",
       "      <td>80.6</td>\n",
       "      <td>81.0</td>\n",
       "      <td>83.2</td>\n",
       "      <td>78.8</td>\n",
       "    </tr>\n",
       "    <tr>\n",
       "      <th>2013</th>\n",
       "      <td>81.7</td>\n",
       "      <td>82.3</td>\n",
       "      <td>80.6</td>\n",
       "      <td>81.1</td>\n",
       "      <td>83.4</td>\n",
       "      <td>78.8</td>\n",
       "    </tr>\n",
       "    <tr>\n",
       "      <th>2014</th>\n",
       "      <td>81.8</td>\n",
       "      <td>82.8</td>\n",
       "      <td>81.2</td>\n",
       "      <td>81.4</td>\n",
       "      <td>83.7</td>\n",
       "      <td>78.9</td>\n",
       "    </tr>\n",
       "    <tr>\n",
       "      <th>2015</th>\n",
       "      <td>81.9</td>\n",
       "      <td>82.4</td>\n",
       "      <td>80.7</td>\n",
       "      <td>81.0</td>\n",
       "      <td>83.9</td>\n",
       "      <td>78.7</td>\n",
       "    </tr>\n",
       "    <tr>\n",
       "      <th>2016</th>\n",
       "      <td>82.0</td>\n",
       "      <td>82.7</td>\n",
       "      <td>81.0</td>\n",
       "      <td>81.2</td>\n",
       "      <td>84.1</td>\n",
       "      <td>78.7</td>\n",
       "    </tr>\n",
       "    <tr>\n",
       "      <th>2017</th>\n",
       "      <td>81.9</td>\n",
       "      <td>82.7</td>\n",
       "      <td>81.1</td>\n",
       "      <td>81.3</td>\n",
       "      <td>84.2</td>\n",
       "      <td>78.6</td>\n",
       "    </tr>\n",
       "    <tr>\n",
       "      <th>2018</th>\n",
       "      <td>82.0</td>\n",
       "      <td>82.8</td>\n",
       "      <td>81.0</td>\n",
       "      <td>81.3</td>\n",
       "      <td>84.3</td>\n",
       "      <td>78.7</td>\n",
       "    </tr>\n",
       "    <tr>\n",
       "      <th>2019</th>\n",
       "      <td>82.2</td>\n",
       "      <td>82.9</td>\n",
       "      <td>81.3</td>\n",
       "      <td>81.4</td>\n",
       "      <td>84.4</td>\n",
       "      <td>78.8</td>\n",
       "    </tr>\n",
       "    <tr>\n",
       "      <th>2020</th>\n",
       "      <td>81.7</td>\n",
       "      <td>82.3</td>\n",
       "      <td>81.1</td>\n",
       "      <td>80.4</td>\n",
       "      <td>84.7</td>\n",
       "      <td>77.0</td>\n",
       "    </tr>\n",
       "  </tbody>\n",
       "</table>\n",
       "</div>"
      ],
      "text/plain": [
       "Country  Canada  France  Germany  Great Britain  Japan   USA\n",
       "Year                                                        \n",
       "2011       81.4    82.3     80.5           81.0   82.7  78.7\n",
       "2012       81.6    82.1     80.6           81.0   83.2  78.8\n",
       "2013       81.7    82.3     80.6           81.1   83.4  78.8\n",
       "2014       81.8    82.8     81.2           81.4   83.7  78.9\n",
       "2015       81.9    82.4     80.7           81.0   83.9  78.7\n",
       "2016       82.0    82.7     81.0           81.2   84.1  78.7\n",
       "2017       81.9    82.7     81.1           81.3   84.2  78.6\n",
       "2018       82.0    82.8     81.0           81.3   84.3  78.7\n",
       "2019       82.2    82.9     81.3           81.4   84.4  78.8\n",
       "2020       81.7    82.3     81.1           80.4   84.7  77.0"
      ]
     },
     "execution_count": 49,
     "metadata": {},
     "output_type": "execute_result"
    }
   ],
   "source": [
    "pivot_table_result = pd.pivot_table(filtered_df, index = \"Year\", columns=\"Country\")\n",
    "life_expectancy = pivot_table_result[\"Life_Expectancy\"]\n",
    "life_expectancy"
   ]
  },
  {
   "cell_type": "code",
   "execution_count": 54,
   "id": "4d17f3aa",
   "metadata": {
    "ExecuteTime": {
     "end_time": "2023-10-09T10:50:16.351404Z",
     "start_time": "2023-10-09T10:50:16.321421Z"
    }
   },
   "outputs": [
    {
     "name": "stdout",
     "output_type": "stream",
     "text": [
      "Country  Canada  France  Germany  Great Britain  Japan   USA\n",
      "Year                                                        \n",
      "2011       81.4    82.3     80.5           81.0   82.7  78.7\n",
      "2012       81.6    82.1     80.6           81.0   83.2  78.8\n",
      "2013       81.7    82.3     80.6           81.1   83.4  78.8\n",
      "2014       81.8    82.8     81.2           81.4   83.7  78.9\n",
      "2015       81.9    82.4     80.7           81.0   83.9  78.7\n",
      "2016       82.0    82.7     81.0           81.2   84.1  78.7\n",
      "2017       81.9    82.7     81.1           81.3   84.2  78.6\n",
      "2018       82.0    82.8     81.0           81.3   84.3  78.7\n",
      "2019       82.2    82.9     81.3           81.4   84.4  78.8\n",
      "2020       81.7    82.3     81.1           80.4   84.7  77.0\n"
     ]
    }
   ],
   "source": [
    "result = filtered_df.groupby([\"Year\", \"Country\"])[\"Life_Expectancy\"].mean().unstack()\n",
    "print(result)"
   ]
  },
  {
   "cell_type": "markdown",
   "id": "354d3133",
   "metadata": {},
   "source": [
    "# Q3"
   ]
  },
  {
   "cell_type": "markdown",
   "id": "22454a4c",
   "metadata": {},
   "source": [
    "* Pandas를 통한 파일 저장과 불러오기\n",
    "\n",
    "    * to_csv(\"파일명\", index=False) : csv 파일로 저장하기\n",
    "    * read_csv(\"파일명\") : csv 파일 불러오기\n",
    "    * shape를 통한 행과 열의 수 보기\n",
    "    * head, tail, sample 을 통한 일부 데이터 가져오기\n",
    "\n",
    "* DataFrame의 info(), describe() 등을 통한 요약과 기술통계 값 구하기\n",
    "\n",
    "    * info()\n",
    "    * describe()\n",
    "    * nunique()\n",
    "    * index\n",
    "    * columns\n",
    "    * values\n",
    "\n",
    "* Pandas의 DataFrame과 Series의 이해\n",
    "\n",
    "    * Series : 1차원 벡터구조\n",
    "    * DataFrame : 2차원 행렬구조\n",
    "* 색인하기\n",
    "\n",
    "    * [컬럼]\n",
    "    * .loc[행]\n",
    "    * .loc[행, 열]\n",
    "    * .loc[조건식, 열]\n",
    "\n",
    "* DataFrame의 데이터 타입 이해하기\n",
    "\n",
    "    * 날짜 데이터의 변환\n",
    "    \n",
    "* DataFrame 다루기\n",
    "\n",
    "    * 열(column) 인덱싱\n",
    "    * 행(index) 인덱싱\n",
    "    * 행, 열 인덱싱\n",
    "    * 정렬하기 : sort_values 사용하기\n",
    "    * 조건식 사용하기\n",
    "\n",
    "* 빈도수 구하기\n",
    "\n",
    "    * 한 개의 변수 : series.value_counts()\n",
    "    * 두 개의 변수 : pd.crosstab()\n",
    "\n",
    "* groupby 와 pivot_table\n",
    "\n",
    "    * 다양한 연산식의 사용"
   ]
  },
  {
   "cell_type": "markdown",
   "id": "38a4122b",
   "metadata": {},
   "source": [
    "# Q4"
   ]
  },
  {
   "cell_type": "code",
   "execution_count": 61,
   "id": "304e6b13",
   "metadata": {
    "ExecuteTime": {
     "end_time": "2023-10-09T10:57:48.869029Z",
     "start_time": "2023-10-09T10:57:48.851791Z"
    }
   },
   "outputs": [
    {
     "data": {
      "text/plain": [
       "'data/서울특별시 강남구_생활폐기물배출량_20221019.csv'"
      ]
     },
     "execution_count": 61,
     "metadata": {},
     "output_type": "execute_result"
    }
   ],
   "source": [
    "from glob import glob\n",
    "file_name = glob(\"data/서울특별시 강남구_생활폐기물배출량_20221019.csv\")[0]\n",
    "file_name"
   ]
  },
  {
   "cell_type": "code",
   "execution_count": 62,
   "id": "7074e0c5",
   "metadata": {
    "ExecuteTime": {
     "end_time": "2023-10-09T10:57:50.892380Z",
     "start_time": "2023-10-09T10:57:50.858323Z"
    }
   },
   "outputs": [
    {
     "data": {
      "text/html": [
       "<div>\n",
       "<style scoped>\n",
       "    .dataframe tbody tr th:only-of-type {\n",
       "        vertical-align: middle;\n",
       "    }\n",
       "\n",
       "    .dataframe tbody tr th {\n",
       "        vertical-align: top;\n",
       "    }\n",
       "\n",
       "    .dataframe thead th {\n",
       "        text-align: right;\n",
       "    }\n",
       "</style>\n",
       "<table border=\"1\" class=\"dataframe\">\n",
       "  <thead>\n",
       "    <tr style=\"text-align: right;\">\n",
       "      <th></th>\n",
       "      <th>강남구</th>\n",
       "      <th>2019년(생활폐기물)-톤</th>\n",
       "      <th>2020년(생활폐기물)-톤</th>\n",
       "    </tr>\n",
       "  </thead>\n",
       "  <tbody>\n",
       "    <tr>\n",
       "      <th>0</th>\n",
       "      <td>01월</td>\n",
       "      <td>7550</td>\n",
       "      <td>7350</td>\n",
       "    </tr>\n",
       "    <tr>\n",
       "      <th>1</th>\n",
       "      <td>02월</td>\n",
       "      <td>6387</td>\n",
       "      <td>6688</td>\n",
       "    </tr>\n",
       "    <tr>\n",
       "      <th>2</th>\n",
       "      <td>03월</td>\n",
       "      <td>7198</td>\n",
       "      <td>6973</td>\n",
       "    </tr>\n",
       "    <tr>\n",
       "      <th>3</th>\n",
       "      <td>04월</td>\n",
       "      <td>6820</td>\n",
       "      <td>6448</td>\n",
       "    </tr>\n",
       "    <tr>\n",
       "      <th>4</th>\n",
       "      <td>05월</td>\n",
       "      <td>7767</td>\n",
       "      <td>6470</td>\n",
       "    </tr>\n",
       "    <tr>\n",
       "      <th>5</th>\n",
       "      <td>06월</td>\n",
       "      <td>7275</td>\n",
       "      <td>7923</td>\n",
       "    </tr>\n",
       "    <tr>\n",
       "      <th>6</th>\n",
       "      <td>07월</td>\n",
       "      <td>8164</td>\n",
       "      <td>8015</td>\n",
       "    </tr>\n",
       "    <tr>\n",
       "      <th>7</th>\n",
       "      <td>08월</td>\n",
       "      <td>7807</td>\n",
       "      <td>7859</td>\n",
       "    </tr>\n",
       "    <tr>\n",
       "      <th>8</th>\n",
       "      <td>09월</td>\n",
       "      <td>6811</td>\n",
       "      <td>7452</td>\n",
       "    </tr>\n",
       "    <tr>\n",
       "      <th>9</th>\n",
       "      <td>10월</td>\n",
       "      <td>7222</td>\n",
       "      <td>6875</td>\n",
       "    </tr>\n",
       "    <tr>\n",
       "      <th>10</th>\n",
       "      <td>11월</td>\n",
       "      <td>7592</td>\n",
       "      <td>7337</td>\n",
       "    </tr>\n",
       "    <tr>\n",
       "      <th>11</th>\n",
       "      <td>12월</td>\n",
       "      <td>7298</td>\n",
       "      <td>6911</td>\n",
       "    </tr>\n",
       "  </tbody>\n",
       "</table>\n",
       "</div>"
      ],
      "text/plain": [
       "    강남구  2019년(생활폐기물)-톤  2020년(생활폐기물)-톤\n",
       "0   01월            7550            7350\n",
       "1   02월            6387            6688\n",
       "2   03월            7198            6973\n",
       "3   04월            6820            6448\n",
       "4   05월            7767            6470\n",
       "5   06월            7275            7923\n",
       "6   07월            8164            8015\n",
       "7   08월            7807            7859\n",
       "8   09월            6811            7452\n",
       "9   10월            7222            6875\n",
       "10  11월            7592            7337\n",
       "11  12월            7298            6911"
      ]
     },
     "execution_count": 62,
     "metadata": {},
     "output_type": "execute_result"
    }
   ],
   "source": [
    "pd.read_csv(file_name, encoding = \"cp949\")"
   ]
  },
  {
   "cell_type": "code",
   "execution_count": null,
   "id": "7a3edbda",
   "metadata": {},
   "outputs": [],
   "source": []
  },
  {
   "cell_type": "code",
   "execution_count": null,
   "id": "98291200",
   "metadata": {},
   "outputs": [],
   "source": []
  }
 ],
 "metadata": {
  "kernelspec": {
   "display_name": "Python 3 (ipykernel)",
   "language": "python",
   "name": "python3"
  },
  "language_info": {
   "codemirror_mode": {
    "name": "ipython",
    "version": 3
   },
   "file_extension": ".py",
   "mimetype": "text/x-python",
   "name": "python",
   "nbconvert_exporter": "python",
   "pygments_lexer": "ipython3",
   "version": "3.9.12"
  },
  "toc": {
   "base_numbering": 1,
   "nav_menu": {},
   "number_sections": true,
   "sideBar": true,
   "skip_h1_title": false,
   "title_cell": "Table of Contents",
   "title_sidebar": "Contents",
   "toc_cell": false,
   "toc_position": {
    "height": "calc(100% - 180px)",
    "left": "10px",
    "top": "150px",
    "width": "264.396px"
   },
   "toc_section_display": true,
   "toc_window_display": true
  }
 },
 "nbformat": 4,
 "nbformat_minor": 5
}
