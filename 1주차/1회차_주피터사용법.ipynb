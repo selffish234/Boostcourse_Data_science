{
 "cells": [
  {
   "cell_type": "markdown",
   "id": "d0d73a4c",
   "metadata": {},
   "source": [
    "# 주피터 노트북 사용법\n",
    "* shift + Enter 키를 누르면 셀이 실행되고 커서가 다음셀로 이동한다.\n",
    "* Enter 키를  누르면 다시 편집상태로 돌아론다.\n",
    "* ESC 키를 누르고\n",
    "    * a 키를 누르면 위에 셀이 추가된다.\n",
    "    * b 키를 누르면 아래에 셀이 추가된다.\n",
    "    * dd 키를 누르면 셀이 삭제 된다.\n",
    "    * m 키를 누르면 문서 셀로 변경된다.\n",
    "    * y 키를 누르면 코드 셀로 변경된다.\n",
    "\n",
    "## 마크다운(Markdown)이란?\n",
    "* 코드와 함께 문서화를 할 수 있다.\n",
    "* 문서화를 할 수 있는 `문법`이다.\n",
    "\n",
    "```\n",
    "여러 줄의 설명을\n",
    "줄바꿈으로 쓰고자 할 때\n",
    "```"
   ]
  },
  {
   "cell_type": "markdown",
   "id": "1f698b85",
   "metadata": {},
   "source": [
    "# Zen of Python\n",
    "* 파이썬의 철학이 담겨있는 Zen of Python\n",
    "* import를 통해 파이썬의 라이브러리나 패키지를 가져올 수 있다."
   ]
  },
  {
   "cell_type": "code",
   "execution_count": 1,
   "id": "f0ba4661",
   "metadata": {
    "ExecuteTime": {
     "end_time": "2023-10-09T06:49:52.450263Z",
     "start_time": "2023-10-09T06:49:52.435312Z"
    }
   },
   "outputs": [
    {
     "name": "stdout",
     "output_type": "stream",
     "text": [
      "The Zen of Python, by Tim Peters\n",
      "\n",
      "Beautiful is better than ugly.\n",
      "Explicit is better than implicit.\n",
      "Simple is better than complex.\n",
      "Complex is better than complicated.\n",
      "Flat is better than nested.\n",
      "Sparse is better than dense.\n",
      "Readability counts.\n",
      "Special cases aren't special enough to break the rules.\n",
      "Although practicality beats purity.\n",
      "Errors should never pass silently.\n",
      "Unless explicitly silenced.\n",
      "In the face of ambiguity, refuse the temptation to guess.\n",
      "There should be one-- and preferably only one --obvious way to do it.\n",
      "Although that way may not be obvious at first unless you're Dutch.\n",
      "Now is better than never.\n",
      "Although never is often better than *right* now.\n",
      "If the implementation is hard to explain, it's a bad idea.\n",
      "If the implementation is easy to explain, it may be a good idea.\n",
      "Namespaces are one honking great idea -- let's do more of those!\n"
     ]
    }
   ],
   "source": [
    "import this"
   ]
  },
  {
   "cell_type": "markdown",
   "id": "7e95c8f0",
   "metadata": {},
   "source": [
    "# boolean\n",
    "* 파이썬에는 명시적인 것이 암시적인 것보다 낫다라는 철학이 있다.\n",
    "* True나 False는 0과 1로도 표현할 수 있으나 명시적으로 표현하기 위해 True와 False를 사용한다."
   ]
  },
  {
   "cell_type": "markdown",
   "id": "d689cb5d",
   "metadata": {},
   "source": [
    "# Number and String\n",
    "* 숫자 1과 문자 \"1\"은 다르다.\n",
    "* 데이터 타입을 표현할 때 type을 통해 데이터를 출력한다."
   ]
  },
  {
   "cell_type": "markdown",
   "id": "f69ad90a",
   "metadata": {},
   "source": [
    "# Strings and Lists\n",
    "## strings\n",
    "    * 모두 소문자로 만들기 .lower()\n",
    "    * 모두 대문자로 만들기 .upper()\n",
    "## lists\n",
    "    * 리스트에 원소 추가하기 .append(\"\")\n",
    "    * 리스트 인덱싱 : list[n]"
   ]
  },
  {
   "cell_type": "markdown",
   "id": "e57bdd9b",
   "metadata": {},
   "source": [
    "# Control Flow\n",
    "* 제어문 - 조건문, 반복문"
   ]
  },
  {
   "cell_type": "markdown",
   "id": "792a3db1",
   "metadata": {},
   "source": [
    "## 문자열"
   ]
  },
  {
   "cell_type": "code",
   "execution_count": 3,
   "id": "e254e4f8",
   "metadata": {
    "ExecuteTime": {
     "end_time": "2023-10-09T07:05:12.614314Z",
     "start_time": "2023-10-09T07:05:12.599932Z"
    }
   },
   "outputs": [
    {
     "data": {
      "text/plain": [
       "' 경기도 성남시 분당구 불정로 6 NAVER 그린팩토리 16층 '"
      ]
     },
     "execution_count": 3,
     "metadata": {},
     "output_type": "execute_result"
    }
   ],
   "source": [
    "# 주소를 address 변수에 담는다.\n",
    "address = \" 경기도 성남시 분당구 불정로 6 NAVER 그린팩토리 16층 \"\n",
    "address"
   ]
  },
  {
   "cell_type": "code",
   "execution_count": 4,
   "id": "c80fc422",
   "metadata": {
    "ExecuteTime": {
     "end_time": "2023-10-09T07:05:59.619435Z",
     "start_time": "2023-10-09T07:05:59.607389Z"
    }
   },
   "outputs": [
    {
     "data": {
      "text/plain": [
       "'경기도 성남시 분당구 불정로 6 NAVER 그린팩토리 16층'"
      ]
     },
     "execution_count": 4,
     "metadata": {},
     "output_type": "execute_result"
    }
   ],
   "source": [
    "# 앞뒤 공백을 제거한다.\n",
    "# 데이터 전처리 시 주로 사용\n",
    "address = address.strip()\n",
    "address"
   ]
  },
  {
   "cell_type": "code",
   "execution_count": 6,
   "id": "dc394199",
   "metadata": {
    "ExecuteTime": {
     "end_time": "2023-10-09T07:06:27.921169Z",
     "start_time": "2023-10-09T07:06:27.906043Z"
    }
   },
   "outputs": [
    {
     "data": {
      "text/plain": [
       "33"
      ]
     },
     "execution_count": 6,
     "metadata": {},
     "output_type": "execute_result"
    }
   ],
   "source": [
    "#문자열의 길이\n",
    "len(address)"
   ]
  },
  {
   "cell_type": "code",
   "execution_count": 7,
   "id": "82d3bff4",
   "metadata": {
    "ExecuteTime": {
     "end_time": "2023-10-09T07:07:01.786393Z",
     "start_time": "2023-10-09T07:07:01.777636Z"
    }
   },
   "outputs": [
    {
     "data": {
      "text/plain": [
       "['경기도', '성남시', '분당구', '불정로', '6', 'NAVER', '그린팩토리', '16층']"
      ]
     },
     "execution_count": 7,
     "metadata": {},
     "output_type": "execute_result"
    }
   ],
   "source": [
    "#공백으로 문자열 분리\n",
    "address.split()"
   ]
  },
  {
   "cell_type": "code",
   "execution_count": 10,
   "id": "c852d5f3",
   "metadata": {
    "ExecuteTime": {
     "end_time": "2023-10-09T07:08:15.681249Z",
     "start_time": "2023-10-09T07:08:15.676193Z"
    }
   },
   "outputs": [
    {
     "data": {
      "text/plain": [
       "8"
      ]
     },
     "execution_count": 10,
     "metadata": {},
     "output_type": "execute_result"
    }
   ],
   "source": [
    "#list의 길이\n",
    "address_list = address.split()\n",
    "len(address.split())"
   ]
  },
  {
   "cell_type": "code",
   "execution_count": 12,
   "id": "8dbcf424",
   "metadata": {
    "ExecuteTime": {
     "end_time": "2023-10-09T07:09:36.306385Z",
     "start_time": "2023-10-09T07:09:36.295581Z"
    }
   },
   "outputs": [
    {
     "data": {
      "text/plain": [
       "'경기'"
      ]
     },
     "execution_count": 12,
     "metadata": {},
     "output_type": "execute_result"
    }
   ],
   "source": [
    "#슬리이싱으로 문자 가져오기\n",
    "address[:2]"
   ]
  },
  {
   "cell_type": "code",
   "execution_count": 14,
   "id": "e570d780",
   "metadata": {
    "ExecuteTime": {
     "end_time": "2023-10-09T07:10:54.688677Z",
     "start_time": "2023-10-09T07:10:54.674875Z"
    }
   },
   "outputs": [
    {
     "data": {
      "text/plain": [
       "True"
      ]
     },
     "execution_count": 14,
     "metadata": {},
     "output_type": "execute_result"
    }
   ],
   "source": [
    "# startswith 를 사용하면 특정 문자가 포함되는지 여부 확인가능\n",
    "address.startswith(\"경기도\")"
   ]
  },
  {
   "cell_type": "code",
   "execution_count": 15,
   "id": "25dc9bff",
   "metadata": {
    "ExecuteTime": {
     "end_time": "2023-10-09T07:11:18.962476Z",
     "start_time": "2023-10-09T07:11:18.952767Z"
    }
   },
   "outputs": [
    {
     "data": {
      "text/plain": [
       "True"
      ]
     },
     "execution_count": 15,
     "metadata": {},
     "output_type": "execute_result"
    }
   ],
   "source": [
    "\"경기도\" in address"
   ]
  },
  {
   "cell_type": "code",
   "execution_count": 22,
   "id": "722e7e01",
   "metadata": {
    "ExecuteTime": {
     "end_time": "2023-10-09T07:13:40.710942Z",
     "start_time": "2023-10-09T07:13:40.695163Z"
    }
   },
   "outputs": [
    {
     "data": {
      "text/plain": [
       "'분당구'"
      ]
     },
     "execution_count": 22,
     "metadata": {},
     "output_type": "execute_result"
    }
   ],
   "source": [
    "gu = address_list[2]\n",
    "gu"
   ]
  },
  {
   "cell_type": "code",
   "execution_count": 20,
   "id": "c31e0073",
   "metadata": {
    "ExecuteTime": {
     "end_time": "2023-10-09T07:13:05.650860Z",
     "start_time": "2023-10-09T07:13:05.640340Z"
    }
   },
   "outputs": [
    {
     "data": {
      "text/plain": [
       "'불정로'"
      ]
     },
     "execution_count": 20,
     "metadata": {},
     "output_type": "execute_result"
    }
   ],
   "source": [
    "street = address_list[3]\n",
    "street"
   ]
  },
  {
   "cell_type": "code",
   "execution_count": 21,
   "id": "fe6aeb1e",
   "metadata": {
    "ExecuteTime": {
     "end_time": "2023-10-09T07:13:16.443734Z",
     "start_time": "2023-10-09T07:13:16.433641Z"
    }
   },
   "outputs": [
    {
     "data": {
      "text/plain": [
       "'16층'"
      ]
     },
     "execution_count": 21,
     "metadata": {},
     "output_type": "execute_result"
    }
   ],
   "source": [
    "address_list[-1]"
   ]
  },
  {
   "cell_type": "code",
   "execution_count": 23,
   "id": "75ff0466",
   "metadata": {
    "ExecuteTime": {
     "end_time": "2023-10-09T07:15:02.104759Z",
     "start_time": "2023-10-09T07:15:02.097380Z"
    }
   },
   "outputs": [
    {
     "data": {
      "text/plain": [
       "'경기도 성남시 분당구 불정로 6 NAVER 그린팩토리 16층'"
      ]
     },
     "execution_count": 23,
     "metadata": {},
     "output_type": "execute_result"
    }
   ],
   "source": [
    "# \"\".join(리스트)를 사용하면 리스트를 공백 문자열로 연결할 수 있다.\n",
    "\" \".join(address_list)"
   ]
  },
  {
   "cell_type": "code",
   "execution_count": null,
   "id": "545120d4",
   "metadata": {},
   "outputs": [],
   "source": []
  },
  {
   "cell_type": "code",
   "execution_count": null,
   "id": "b156e709",
   "metadata": {},
   "outputs": [],
   "source": []
  },
  {
   "cell_type": "code",
   "execution_count": null,
   "id": "436ad491",
   "metadata": {},
   "outputs": [],
   "source": []
  }
 ],
 "metadata": {
  "kernelspec": {
   "display_name": "Python 3 (ipykernel)",
   "language": "python",
   "name": "python3"
  },
  "language_info": {
   "codemirror_mode": {
    "name": "ipython",
    "version": 3
   },
   "file_extension": ".py",
   "mimetype": "text/x-python",
   "name": "python",
   "nbconvert_exporter": "python",
   "pygments_lexer": "ipython3",
   "version": "3.9.12"
  },
  "toc": {
   "base_numbering": 1,
   "nav_menu": {},
   "number_sections": true,
   "sideBar": true,
   "skip_h1_title": false,
   "title_cell": "Table of Contents",
   "title_sidebar": "Contents",
   "toc_cell": false,
   "toc_position": {
    "height": "calc(100% - 180px)",
    "left": "10px",
    "top": "150px",
    "width": "264.396px"
   },
   "toc_section_display": true,
   "toc_window_display": true
  }
 },
 "nbformat": 4,
 "nbformat_minor": 5
}
